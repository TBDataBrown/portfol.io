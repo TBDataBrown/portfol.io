{
 "cells": [
  {
   "cell_type": "markdown",
   "metadata": {},
   "source": [
    "EDA"
   ]
  },
  {
   "cell_type": "code",
   "execution_count": 1,
   "metadata": {},
   "outputs": [],
   "source": [
    "import pandas as pd\n",
    "import matplotlib.pyplot as plt\n",
    "from sklearn.decomposition import PCA\n",
    "from sklearn import linear_model\n",
    "from sklearn.model_selection import train_test_split\n",
    "from sklearn.ensemble import RandomForestRegressor\n",
    "import yfinance as yf\n",
    "import numpy as np\n",
    "from sklearn.preprocessing import StandardScaler"
   ]
  },
  {
   "cell_type": "markdown",
   "metadata": {},
   "source": [
    "We import the stock price of Starbucks(SBUX) and Apple(AAPL) and the industrial index of S&P 500(SPY)."
   ]
  },
  {
   "cell_type": "code",
   "execution_count": 53,
   "metadata": {},
   "outputs": [
    {
     "name": "stdout",
     "output_type": "stream",
     "text": [
      "[*********************100%***********************]  1 of 1 completed\n",
      "[*********************100%***********************]  1 of 1 completed\n",
      "[*********************100%***********************]  1 of 1 completed\n"
     ]
    }
   ],
   "source": [
    "spy= yf.download(\n",
    "        tickers = \"SPY\",\n",
    "        period = \"5d\",\n",
    "        interval = \"1m\",\n",
    "        group_by = 'ticker',\n",
    "        auto_adjust = True,\n",
    "        prepost = False,\n",
    "        threads = True,\n",
    "        proxy = None)\n",
    "spy.reset_index(inplace=True,drop=False)\n",
    "spy.rename(columns = {'Close':'SPY'}, inplace = True) \n",
    "spy=spy.drop(['Open', 'High','Low','Volume'], axis=1)\n",
    "\n",
    "\n",
    "sbux= yf.download(\n",
    "        tickers = \"SBUX\",\n",
    "        period = \"5d\",\n",
    "        interval = \"1m\",\n",
    "        group_by = 'ticker',\n",
    "        auto_adjust = True,\n",
    "        prepost = False,\n",
    "        threads = True,\n",
    "        proxy = None)\n",
    "sbux.reset_index(inplace=True,drop=False)\n",
    "sbux=sbux.drop(['Open', 'High','Low','Volume','Datetime'], axis=1)\n",
    "sbux.rename(columns = {'Close':'SBUX'}, inplace = True) \n",
    "\n",
    "aapl= yf.download(\n",
    "        tickers = \"AAPL\",\n",
    "        period = \"5d\",\n",
    "        interval = \"1m\",\n",
    "        group_by = 'ticker',\n",
    "        auto_adjust = True,\n",
    "        prepost = False,\n",
    "        threads = True,\n",
    "        proxy = None)\n",
    "aapl.reset_index(inplace=True,drop=False)\n",
    "aapl=aapl.drop(['Open', 'High','Low','Volume','Datetime'], axis=1)\n",
    "aapl.rename(columns = {'Close':'AAPL'}, inplace = True);"
   ]
  },
  {
   "cell_type": "code",
   "execution_count": 54,
   "metadata": {},
   "outputs": [],
   "source": [
    "data = pd.concat([spy, sbux,aapl], axis=1, sort=False)"
   ]
  },
  {
   "cell_type": "code",
   "execution_count": 55,
   "metadata": {},
   "outputs": [
    {
     "data": {
      "text/html": [
       "<div>\n",
       "<style scoped>\n",
       "    .dataframe tbody tr th:only-of-type {\n",
       "        vertical-align: middle;\n",
       "    }\n",
       "\n",
       "    .dataframe tbody tr th {\n",
       "        vertical-align: top;\n",
       "    }\n",
       "\n",
       "    .dataframe thead th {\n",
       "        text-align: right;\n",
       "    }\n",
       "</style>\n",
       "<table border=\"1\" class=\"dataframe\">\n",
       "  <thead>\n",
       "    <tr style=\"text-align: right;\">\n",
       "      <th></th>\n",
       "      <th>Datetime</th>\n",
       "      <th>SPY</th>\n",
       "      <th>SBUX</th>\n",
       "      <th>AAPL</th>\n",
       "    </tr>\n",
       "  </thead>\n",
       "  <tbody>\n",
       "    <tr>\n",
       "      <th>0</th>\n",
       "      <td>2020-11-18 09:30:00-05:00</td>\n",
       "      <td>360.760010</td>\n",
       "      <td>98.510002</td>\n",
       "      <td>118.910004</td>\n",
       "    </tr>\n",
       "    <tr>\n",
       "      <th>1</th>\n",
       "      <td>2020-11-18 09:31:00-05:00</td>\n",
       "      <td>360.679993</td>\n",
       "      <td>98.565498</td>\n",
       "      <td>118.684998</td>\n",
       "    </tr>\n",
       "    <tr>\n",
       "      <th>2</th>\n",
       "      <td>2020-11-18 09:32:00-05:00</td>\n",
       "      <td>360.730011</td>\n",
       "      <td>98.669998</td>\n",
       "      <td>118.620003</td>\n",
       "    </tr>\n",
       "    <tr>\n",
       "      <th>3</th>\n",
       "      <td>2020-11-18 09:33:00-05:00</td>\n",
       "      <td>360.660004</td>\n",
       "      <td>98.705002</td>\n",
       "      <td>118.377701</td>\n",
       "    </tr>\n",
       "    <tr>\n",
       "      <th>4</th>\n",
       "      <td>2020-11-18 09:34:00-05:00</td>\n",
       "      <td>360.695007</td>\n",
       "      <td>98.644997</td>\n",
       "      <td>118.499901</td>\n",
       "    </tr>\n",
       "    <tr>\n",
       "      <th>...</th>\n",
       "      <td>...</td>\n",
       "      <td>...</td>\n",
       "      <td>...</td>\n",
       "      <td>...</td>\n",
       "    </tr>\n",
       "    <tr>\n",
       "      <th>1944</th>\n",
       "      <td>2020-11-24 15:55:00-05:00</td>\n",
       "      <td>363.364990</td>\n",
       "      <td>98.330002</td>\n",
       "      <td>115.170097</td>\n",
       "    </tr>\n",
       "    <tr>\n",
       "      <th>1945</th>\n",
       "      <td>2020-11-24 15:56:00-05:00</td>\n",
       "      <td>363.140015</td>\n",
       "      <td>98.300003</td>\n",
       "      <td>115.014999</td>\n",
       "    </tr>\n",
       "    <tr>\n",
       "      <th>1946</th>\n",
       "      <td>2020-11-24 15:57:00-05:00</td>\n",
       "      <td>363.359985</td>\n",
       "      <td>98.349998</td>\n",
       "      <td>115.149902</td>\n",
       "    </tr>\n",
       "    <tr>\n",
       "      <th>1947</th>\n",
       "      <td>2020-11-24 15:58:00-05:00</td>\n",
       "      <td>363.109985</td>\n",
       "      <td>98.300003</td>\n",
       "      <td>115.025002</td>\n",
       "    </tr>\n",
       "    <tr>\n",
       "      <th>1948</th>\n",
       "      <td>2020-11-24 15:59:00-05:00</td>\n",
       "      <td>363.179993</td>\n",
       "      <td>98.320000</td>\n",
       "      <td>115.169998</td>\n",
       "    </tr>\n",
       "  </tbody>\n",
       "</table>\n",
       "<p>1949 rows × 4 columns</p>\n",
       "</div>"
      ],
      "text/plain": [
       "                      Datetime         SPY       SBUX        AAPL\n",
       "0    2020-11-18 09:30:00-05:00  360.760010  98.510002  118.910004\n",
       "1    2020-11-18 09:31:00-05:00  360.679993  98.565498  118.684998\n",
       "2    2020-11-18 09:32:00-05:00  360.730011  98.669998  118.620003\n",
       "3    2020-11-18 09:33:00-05:00  360.660004  98.705002  118.377701\n",
       "4    2020-11-18 09:34:00-05:00  360.695007  98.644997  118.499901\n",
       "...                        ...         ...        ...         ...\n",
       "1944 2020-11-24 15:55:00-05:00  363.364990  98.330002  115.170097\n",
       "1945 2020-11-24 15:56:00-05:00  363.140015  98.300003  115.014999\n",
       "1946 2020-11-24 15:57:00-05:00  363.359985  98.349998  115.149902\n",
       "1947 2020-11-24 15:58:00-05:00  363.109985  98.300003  115.025002\n",
       "1948 2020-11-24 15:59:00-05:00  363.179993  98.320000  115.169998\n",
       "\n",
       "[1949 rows x 4 columns]"
      ]
     },
     "execution_count": 55,
     "metadata": {},
     "output_type": "execute_result"
    }
   ],
   "source": [
    "data"
   ]
  },
  {
   "cell_type": "markdown",
   "metadata": {},
   "source": [
    "ETL"
   ]
  },
  {
   "cell_type": "code",
   "execution_count": 56,
   "metadata": {},
   "outputs": [],
   "source": [
    "import pymongo\n",
    "client = pymongo.MongoClient()"
   ]
  },
  {
   "cell_type": "code",
   "execution_count": 57,
   "metadata": {},
   "outputs": [
    {
     "name": "stdout",
     "output_type": "stream",
     "text": [
      "rows=1949, update=1949, insert=0\n"
     ]
    }
   ],
   "source": [
    "db = client.get_database(\"stock\")\n",
    "collection = db.get_collection(\"stock\")\n",
    "update_count = 0\n",
    "for record in data.to_dict('records'):\n",
    "    result = collection.replace_one(\n",
    "        filter={'Datetime': record['Datetime']},    \n",
    "        replacement=record,                         \n",
    "        upsert=True)                                \n",
    "    if result.matched_count > 0:\n",
    "        update_count += 1\n",
    "print(f\"rows={data.shape[0]}, update={update_count}, \"\n",
    "      f\"insert={data.shape[0]-update_count}\")"
   ]
  }
 ],
 "metadata": {
  "kernelspec": {
   "display_name": "Python 3",
   "language": "python",
   "name": "python3"
  },
  "language_info": {
   "codemirror_mode": {
    "name": "ipython",
    "version": 3
   },
   "file_extension": ".py",
   "mimetype": "text/x-python",
   "name": "python",
   "nbconvert_exporter": "python",
   "pygments_lexer": "ipython3",
   "version": "3.7.6"
  }
 },
 "nbformat": 4,
 "nbformat_minor": 4
}
