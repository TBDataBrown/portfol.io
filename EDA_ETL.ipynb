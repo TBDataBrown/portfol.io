{
 "cells": [
  {
   "cell_type": "markdown",
   "metadata": {},
   "source": [
    "EDA"
   ]
  },
  {
   "cell_type": "code",
   "execution_count": 1,
   "metadata": {},
   "outputs": [],
   "source": [
    "import pandas as pd\n",
    "import matplotlib.pyplot as plt\n",
    "from sklearn.decomposition import PCA\n",
    "from sklearn import linear_model\n",
    "from sklearn.model_selection import train_test_split\n",
    "from sklearn.ensemble import RandomForestRegressor\n",
    "import yfinance as yf\n",
    "import numpy as np\n",
    "from sklearn.preprocessing import StandardScaler"
   ]
  },
  {
   "cell_type": "markdown",
   "metadata": {},
   "source": [
    "We import the stock price of Starbucks(SBUX) and Apple(AAPL) and the industrial index of S&P 500(SPY)."
   ]
  },
  {
   "cell_type": "code",
   "execution_count": 2,
   "metadata": {},
   "outputs": [
    {
     "name": "stdout",
     "output_type": "stream",
     "text": [
      "[*********************100%***********************]  1 of 1 completed\n",
      "[*********************100%***********************]  1 of 1 completed\n",
      "[*********************100%***********************]  1 of 1 completed\n"
     ]
    }
   ],
   "source": [
    "spy= yf.download(\n",
    "        tickers = \"SPY\",\n",
    "        period = \"5d\",\n",
    "        interval = \"1m\",\n",
    "        group_by = 'ticker',\n",
    "        auto_adjust = True,\n",
    "        prepost = False,\n",
    "        threads = True,\n",
    "        proxy = None)\n",
    "spy.reset_index(inplace=True,drop=False)\n",
    "spy.rename(columns = {'Close':'SPY'}, inplace = True) \n",
    "spy=spy.drop(['Open', 'High','Low','Volume'], axis=1)\n",
    "\n",
    "\n",
    "sbux= yf.download(\n",
    "        tickers = \"SBUX\",\n",
    "        period = \"5d\",\n",
    "        interval = \"1m\",\n",
    "        group_by = 'ticker',\n",
    "        auto_adjust = True,\n",
    "        prepost = False,\n",
    "        threads = True,\n",
    "        proxy = None)\n",
    "sbux.reset_index(inplace=True,drop=False)\n",
    "sbux=sbux.drop(['Open', 'High','Low','Volume','Datetime'], axis=1)\n",
    "sbux.rename(columns = {'Close':'SBUX'}, inplace = True) \n",
    "\n",
    "aapl= yf.download(\n",
    "        tickers = \"AAPL\",\n",
    "        period = \"5d\",\n",
    "        interval = \"1m\",\n",
    "        group_by = 'ticker',\n",
    "        auto_adjust = True,\n",
    "        prepost = False,\n",
    "        threads = True,\n",
    "        proxy = None)\n",
    "aapl.reset_index(inplace=True,drop=False)\n",
    "aapl=aapl.drop(['Open', 'High','Low','Volume','Datetime'], axis=1)\n",
    "aapl.rename(columns = {'Close':'AAPL'}, inplace = True);"
   ]
  },
  {
   "cell_type": "code",
   "execution_count": 3,
   "metadata": {},
   "outputs": [],
   "source": [
    "data = pd.concat([spy, sbux,aapl], axis=1, sort=False)"
   ]
  },
  {
   "cell_type": "code",
   "execution_count": 4,
   "metadata": {},
   "outputs": [
    {
     "data": {
      "text/html": [
       "<div>\n",
       "<style scoped>\n",
       "    .dataframe tbody tr th:only-of-type {\n",
       "        vertical-align: middle;\n",
       "    }\n",
       "\n",
       "    .dataframe tbody tr th {\n",
       "        vertical-align: top;\n",
       "    }\n",
       "\n",
       "    .dataframe thead th {\n",
       "        text-align: right;\n",
       "    }\n",
       "</style>\n",
       "<table border=\"1\" class=\"dataframe\">\n",
       "  <thead>\n",
       "    <tr style=\"text-align: right;\">\n",
       "      <th></th>\n",
       "      <th>Datetime</th>\n",
       "      <th>SPY</th>\n",
       "      <th>SBUX</th>\n",
       "      <th>AAPL</th>\n",
       "    </tr>\n",
       "  </thead>\n",
       "  <tbody>\n",
       "    <tr>\n",
       "      <th>0</th>\n",
       "      <td>2020-11-30 09:30:00-05:00</td>\n",
       "      <td>362.839996</td>\n",
       "      <td>97.900002</td>\n",
       "      <td>117.389999</td>\n",
       "    </tr>\n",
       "    <tr>\n",
       "      <th>1</th>\n",
       "      <td>2020-11-30 09:31:00-05:00</td>\n",
       "      <td>362.890015</td>\n",
       "      <td>97.750000</td>\n",
       "      <td>117.589996</td>\n",
       "    </tr>\n",
       "    <tr>\n",
       "      <th>2</th>\n",
       "      <td>2020-11-30 09:32:00-05:00</td>\n",
       "      <td>362.890015</td>\n",
       "      <td>97.650002</td>\n",
       "      <td>118.040001</td>\n",
       "    </tr>\n",
       "    <tr>\n",
       "      <th>3</th>\n",
       "      <td>2020-11-30 09:33:00-05:00</td>\n",
       "      <td>362.970001</td>\n",
       "      <td>97.639999</td>\n",
       "      <td>118.087700</td>\n",
       "    </tr>\n",
       "    <tr>\n",
       "      <th>4</th>\n",
       "      <td>2020-11-30 09:34:00-05:00</td>\n",
       "      <td>362.750000</td>\n",
       "      <td>97.605003</td>\n",
       "      <td>118.239998</td>\n",
       "    </tr>\n",
       "    <tr>\n",
       "      <th>...</th>\n",
       "      <td>...</td>\n",
       "      <td>...</td>\n",
       "      <td>...</td>\n",
       "      <td>...</td>\n",
       "    </tr>\n",
       "    <tr>\n",
       "      <th>1730</th>\n",
       "      <td>2020-12-04 12:28:00-05:00</td>\n",
       "      <td>369.040009</td>\n",
       "      <td>102.714996</td>\n",
       "      <td>121.876701</td>\n",
       "    </tr>\n",
       "    <tr>\n",
       "      <th>1731</th>\n",
       "      <td>2020-12-04 12:29:00-05:00</td>\n",
       "      <td>369.025604</td>\n",
       "      <td>102.730003</td>\n",
       "      <td>121.879997</td>\n",
       "    </tr>\n",
       "    <tr>\n",
       "      <th>1732</th>\n",
       "      <td>2020-12-04 12:30:00-05:00</td>\n",
       "      <td>369.068115</td>\n",
       "      <td>102.684998</td>\n",
       "      <td>121.910103</td>\n",
       "    </tr>\n",
       "    <tr>\n",
       "      <th>1733</th>\n",
       "      <td>2020-12-04 12:31:00-05:00</td>\n",
       "      <td>369.149902</td>\n",
       "      <td>102.650002</td>\n",
       "      <td>122.029999</td>\n",
       "    </tr>\n",
       "    <tr>\n",
       "      <th>1734</th>\n",
       "      <td>2020-12-04 12:32:53-05:00</td>\n",
       "      <td>369.095001</td>\n",
       "      <td>102.614998</td>\n",
       "      <td>122.020798</td>\n",
       "    </tr>\n",
       "  </tbody>\n",
       "</table>\n",
       "<p>1735 rows × 4 columns</p>\n",
       "</div>"
      ],
      "text/plain": [
       "                      Datetime         SPY        SBUX        AAPL\n",
       "0    2020-11-30 09:30:00-05:00  362.839996   97.900002  117.389999\n",
       "1    2020-11-30 09:31:00-05:00  362.890015   97.750000  117.589996\n",
       "2    2020-11-30 09:32:00-05:00  362.890015   97.650002  118.040001\n",
       "3    2020-11-30 09:33:00-05:00  362.970001   97.639999  118.087700\n",
       "4    2020-11-30 09:34:00-05:00  362.750000   97.605003  118.239998\n",
       "...                        ...         ...         ...         ...\n",
       "1730 2020-12-04 12:28:00-05:00  369.040009  102.714996  121.876701\n",
       "1731 2020-12-04 12:29:00-05:00  369.025604  102.730003  121.879997\n",
       "1732 2020-12-04 12:30:00-05:00  369.068115  102.684998  121.910103\n",
       "1733 2020-12-04 12:31:00-05:00  369.149902  102.650002  122.029999\n",
       "1734 2020-12-04 12:32:53-05:00  369.095001  102.614998  122.020798\n",
       "\n",
       "[1735 rows x 4 columns]"
      ]
     },
     "execution_count": 4,
     "metadata": {},
     "output_type": "execute_result"
    }
   ],
   "source": [
    "data"
   ]
  },
  {
   "cell_type": "markdown",
   "metadata": {},
   "source": [
    "ETL"
   ]
  },
  {
   "cell_type": "code",
   "execution_count": 18,
   "metadata": {},
   "outputs": [],
   "source": [
    "import pymongo\n",
    "client = pymongo.MongoClient()"
   ]
  },
  {
   "cell_type": "code",
   "execution_count": 19,
   "metadata": {},
   "outputs": [
    {
     "data": {
      "text/plain": [
       "Database(MongoClient(host=['localhost:27017'], document_class=dict, tz_aware=False, connect=True), 'test_database')"
      ]
     },
     "execution_count": 19,
     "metadata": {},
     "output_type": "execute_result"
    }
   ],
   "source": [
    "client.test_database"
   ]
  },
  {
   "cell_type": "code",
   "execution_count": 20,
   "metadata": {},
   "outputs": [
    {
     "name": "stdout",
     "output_type": "stream",
     "text": [
      "rows=1735, update=0, insert=1735\n"
     ]
    }
   ],
   "source": [
    "db = client.get_database(\"stock\")\n",
    "collection = db.get_collection(\"stock\")\n",
    "update_count = 0\n",
    "for record in data.to_dict('records'):\n",
    "    result = collection.replace_one(\n",
    "        filter={'Datetime': record['Datetime']},    \n",
    "        replacement=record,                         \n",
    "        upsert=True)                                \n",
    "    if result.matched_count > 0:\n",
    "        update_count += 1\n",
    "print(f\"rows={data.shape[0]}, update={update_count}, \"\n",
    "      f\"insert={data.shape[0]-update_count}\")"
   ]
  },
  {
   "cell_type": "code",
   "execution_count": null,
   "metadata": {},
   "outputs": [],
   "source": []
  }
 ],
 "metadata": {
  "kernelspec": {
   "display_name": "Python 3",
   "language": "python",
   "name": "python3"
  },
  "language_info": {
   "codemirror_mode": {
    "name": "ipython",
    "version": 3
   },
   "file_extension": ".py",
   "mimetype": "text/x-python",
   "name": "python",
   "nbconvert_exporter": "python",
   "pygments_lexer": "ipython3",
   "version": "3.7.6"
  }
 },
 "nbformat": 4,
 "nbformat_minor": 4
}
