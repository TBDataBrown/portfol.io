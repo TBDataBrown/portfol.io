{
 "cells": [
  {
   "cell_type": "code",
   "execution_count": 4,
   "metadata": {},
   "outputs": [],
   "source": [
    "import pandas as pd\n",
    "import matplotlib.pyplot as plt\n",
    "from sklearn.decomposition import PCA\n",
    "from sklearn import linear_model\n",
    "from sklearn.model_selection import train_test_split\n",
    "from sklearn.ensemble import RandomForestRegressor\n",
    "import yfinance as yf\n",
    "import numpy as np\n",
    "from sklearn.preprocessing import StandardScaler"
   ]
  },
  {
   "cell_type": "code",
   "execution_count": 5,
   "metadata": {},
   "outputs": [
    {
     "ename": "AttributeError",
     "evalue": "module 'utils' has no attribute 'setup_logger'",
     "output_type": "error",
     "traceback": [
      "\u001b[0;31m---------------------------------------------------------------------------\u001b[0m",
      "\u001b[0;31mAttributeError\u001b[0m                            Traceback (most recent call last)",
      "\u001b[0;32m<ipython-input-5-4fa2ec8fbd16>\u001b[0m in \u001b[0;36m<module>\u001b[0;34m\u001b[0m\n\u001b[1;32m      8\u001b[0m \u001b[0mclient\u001b[0m \u001b[0;34m=\u001b[0m \u001b[0mpymongo\u001b[0m\u001b[0;34m.\u001b[0m\u001b[0mMongoClient\u001b[0m\u001b[0;34m(\u001b[0m\u001b[0;34m)\u001b[0m\u001b[0;34m\u001b[0m\u001b[0;34m\u001b[0m\u001b[0m\n\u001b[1;32m      9\u001b[0m \u001b[0mlogger\u001b[0m \u001b[0;34m=\u001b[0m \u001b[0mlogging\u001b[0m\u001b[0;34m.\u001b[0m\u001b[0mLogger\u001b[0m\u001b[0;34m(\u001b[0m\u001b[0m__name__\u001b[0m\u001b[0;34m)\u001b[0m\u001b[0;34m\u001b[0m\u001b[0;34m\u001b[0m\u001b[0m\n\u001b[0;32m---> 10\u001b[0;31m \u001b[0mutils\u001b[0m\u001b[0;34m.\u001b[0m\u001b[0msetup_logger\u001b[0m\u001b[0;34m(\u001b[0m\u001b[0mlogger\u001b[0m\u001b[0;34m,\u001b[0m \u001b[0;34m'db.log'\u001b[0m\u001b[0;34m)\u001b[0m\u001b[0;34m\u001b[0m\u001b[0;34m\u001b[0m\u001b[0m\n\u001b[0m\u001b[1;32m     11\u001b[0m \u001b[0mRESULT_CACHE_EXPIRATION\u001b[0m \u001b[0;34m=\u001b[0m \u001b[0;36m10\u001b[0m\u001b[0;34m\u001b[0m\u001b[0;34m\u001b[0m\u001b[0m\n\u001b[1;32m     12\u001b[0m \u001b[0;34m\u001b[0m\u001b[0m\n",
      "\u001b[0;31mAttributeError\u001b[0m: module 'utils' has no attribute 'setup_logger'"
     ]
    }
   ],
   "source": [
    "import logging\n",
    "import pymongo\n",
    "import pandas as pds\n",
    "import expiringdict\n",
    "\n",
    "import utils\n",
    "\n",
    "client = pymongo.MongoClient()\n",
    "logger = logging.Logger(__name__)\n",
    "utils.setup_logger(logger, 'db.log')\n",
    "RESULT_CACHE_EXPIRATION = 10        \n",
    "\n",
    "\n",
    "def upsert_stock(df):\n",
    "    \"\"\"\n",
    "    Update MongoDB database `stock` and collection `stock` with the given `DataFrame`.\n",
    "    \"\"\"\n",
    "    db = client.get_database(\"stock\")\n",
    "    collection = db.get_collection(\"stock\")\n",
    "    update_count = 0\n",
    "    for record in data.to_dict('records'):\n",
    "        result = collection.replace_one(\n",
    "            filter={'Datetime': record['Datetime']},    \n",
    "            replacement=record,                         \n",
    "            upsert=True)                                \n",
    "        if result.matched_count > 0:\n",
    "            update_count += 1\n",
    "    logger.info(\"rows={}, update={}, \".format(df.shape[0], update_count) +\n",
    "                \"insert={}\".format(df.shape[0]-update_count))\n",
    "\n",
    "\n",
    "def fetch_all_():\n",
    "    db = client.get_database(\"stock\")\n",
    "    collection = db.get_collection(\"stock\")\n",
    "    ret = list(collection.find())\n",
    "    logger.info(str(len(ret)) + ' documents read from the db')\n",
    "    return ret\n",
    "\n",
    "\n",
    "_fetch_all_stock_as_df_cache = expiringdict.ExpiringDict(max_len=1,\n",
    "                                                       max_age_seconds=RESULT_CACHE_EXPIRATION)\n",
    "\n",
    "\n",
    "def fetch_all_stock_as_df(allow_cached=False):\n",
    "    \"\"\"Converts list of dicts returned by `fetch_all_stock` to DataFrame with ID removed\n",
    "    Actual job is done in `_worker`. When `allow_cached`, attempt to retrieve timed cached from\n",
    "    `_fetch_all_stock_as_df_cache`; ignore cache and call `_work` if cache expires or `allow_cached`\n",
    "    is False.\n",
    "    \"\"\"\n",
    "    def _work():\n",
    "        data = fetch_all_stock()\n",
    "        if len(data) == 0:\n",
    "            return None\n",
    "        df = pds.DataFrame.from_records(data)\n",
    "        df.drop('_id', axis=1, inplace=True)\n",
    "        return df\n",
    "\n",
    "    if allow_cached:\n",
    "        try:\n",
    "            return _fetch_all_stock_as_df_cache['cache']\n",
    "        except KeyError:\n",
    "            pass\n",
    "    ret = _work()\n",
    "    _fetch_all_stock_as_df_cache['cache'] = ret\n",
    "    return ret\n",
    "\n",
    "\n",
    "if __name__ == '__main__':\n",
    "    print(fetch_all_stock_as_df())\n"
   ]
  }
 ],
 "metadata": {
  "kernelspec": {
   "display_name": "Python 3",
   "language": "python",
   "name": "python3"
  },
  "language_info": {
   "codemirror_mode": {
    "name": "ipython",
    "version": 3
   },
   "file_extension": ".py",
   "mimetype": "text/x-python",
   "name": "python",
   "nbconvert_exporter": "python",
   "pygments_lexer": "ipython3",
   "version": "3.7.6"
  }
 },
 "nbformat": 4,
 "nbformat_minor": 4
}
