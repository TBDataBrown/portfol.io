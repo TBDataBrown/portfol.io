{
 "cells": [
  {
   "cell_type": "code",
   "execution_count": 4,
   "metadata": {},
   "outputs": [],
   "source": [
    "import pandas as pd\n",
    "import matplotlib.pyplot as plt\n",
    "from sklearn.decomposition import PCA\n",
    "from sklearn import linear_model\n",
    "from sklearn.model_selection import train_test_split\n",
    "from sklearn.ensemble import RandomForestRegressor\n",
    "import yfinance as yf\n",
    "import numpy as np\n",
    "from sklearn.preprocessing import StandardScaler"
   ]
  },
  {
   "cell_type": "code",
   "execution_count": 2,
   "metadata": {},
   "outputs": [
    {
     "name": "stdout",
     "output_type": "stream",
     "text": [
      "                Datetime         SPY       SBUX        AAPL  MSFT\n",
      "0    2020-11-18 14:30:00  360.760010  98.510002  118.910004   NaN\n",
      "1    2020-11-18 14:31:00  360.679993  98.565498  118.684998   NaN\n",
      "2    2020-11-18 14:32:00  360.730011  98.669998  118.620003   NaN\n",
      "3    2020-11-18 14:33:00  360.660004  98.705002  118.377701   NaN\n",
      "4    2020-11-18 14:34:00  360.695007  98.644997  118.499901   NaN\n",
      "...                  ...         ...        ...         ...   ...\n",
      "1945 2020-11-24 20:55:00  363.364990  98.330002  115.170097   NaN\n",
      "1946 2020-11-24 20:56:00  363.140015  98.300003  115.014999   NaN\n",
      "1947 2020-11-24 20:57:00  363.359985  98.349998  115.149902   NaN\n",
      "1948 2020-11-24 20:58:00  363.109985  98.300003  115.025002   NaN\n",
      "1949 2020-11-24 20:59:00  363.179993  98.320000  115.169998   NaN\n",
      "\n",
      "[1950 rows x 5 columns]\n"
     ]
    }
   ],
   "source": [
    "import logging\n",
    "import pymongo\n",
    "import pandas as pds\n",
    "import expiringdict\n",
    "\n",
    "import utils\n",
    "\n",
    "client = pymongo.MongoClient()\n",
    "logger = logging.Logger(__name__)\n",
    "RESULT_CACHE_EXPIRATION = 10        \n",
    "\n",
    "\n",
    "def upsert_stock(df):\n",
    "    \"\"\"\n",
    "    Update MongoDB database `stock` and collection `stock` with the given `DataFrame`.\n",
    "    \"\"\"\n",
    "    db = client.get_database(\"stock\")\n",
    "    collection = db.get_collection(\"stock\")\n",
    "    update_count = 0\n",
    "    for record in df.to_dict('records'):\n",
    "        result = collection.replace_one(\n",
    "            filter={'Datetime': record['Datetime']},    \n",
    "            replacement=record,                         \n",
    "            upsert=True)                                \n",
    "        if result.matched_count > 0:\n",
    "            update_count += 1\n",
    "    logger.info(\"rows={}, update={}, \".format(df.shape[0], update_count) +\n",
    "                \"insert={}\".format(df.shape[0]-update_count))\n",
    "\n",
    "\n",
    "def fetch_all_stock():\n",
    "    db = client.get_database(\"stock\")\n",
    "    collection = db.get_collection(\"stock\")\n",
    "    ret = list(collection.find())\n",
    "    logger.info(str(len(ret)) + ' documents read from the db')\n",
    "    return ret\n",
    "\n",
    "\n",
    "_fetch_all_stock_as_df_cache = expiringdict.ExpiringDict(max_len=1,\n",
    "                                                       max_age_seconds=RESULT_CACHE_EXPIRATION)\n",
    "\n",
    "\n",
    "def fetch_all_stock_as_df(allow_cached=False):\n",
    "    \"\"\"Converts list of dicts returned by `fetch_all_stock` to DataFrame with ID removed\n",
    "    Actual job is done in `_worker`. When `allow_cached`, attempt to retrieve timed cached from\n",
    "    `_fetch_all_stock_as_df_cache`; ignore cache and call `_work` if cache expires or `allow_cached`\n",
    "    is False.\n",
    "    \"\"\"\n",
    "    def _work():\n",
    "        data = fetch_all_stock()\n",
    "        if len(data) == 0:\n",
    "            return None\n",
    "        df = pds.DataFrame.from_records(data)\n",
    "        df.drop('_id', axis=1, inplace=True)\n",
    "        return df\n",
    "\n",
    "    if allow_cached:\n",
    "        try:\n",
    "            return _fetch_all_stock_as_df_cache['cache']\n",
    "        except KeyError:\n",
    "            pass\n",
    "    ret = _work()\n",
    "    _fetch_all_stock_as_df_cache['cache'] = ret\n",
    "    return ret\n",
    "\n",
    "\n",
    "if __name__ == '__main__':\n",
    "    print(fetch_all_stock_as_df())\n"
   ]
  },
  {
   "cell_type": "code",
   "execution_count": null,
   "metadata": {},
   "outputs": [],
   "source": []
  }
 ],
 "metadata": {
  "kernelspec": {
   "display_name": "Python 3",
   "language": "python",
   "name": "python3"
  },
  "language_info": {
   "codemirror_mode": {
    "name": "ipython",
    "version": 3
   },
   "file_extension": ".py",
   "mimetype": "text/x-python",
   "name": "python",
   "nbconvert_exporter": "python",
   "pygments_lexer": "ipython3",
   "version": "3.7.6"
  }
 },
 "nbformat": 4,
 "nbformat_minor": 4
}
