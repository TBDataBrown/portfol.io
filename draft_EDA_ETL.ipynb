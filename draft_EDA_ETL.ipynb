{
 "cells": [
  {
   "cell_type": "markdown",
   "metadata": {},
   "source": [
    "EDA"
   ]
  },
  {
   "cell_type": "code",
   "execution_count": 1,
   "metadata": {},
   "outputs": [],
   "source": [
    "import pandas as pd\n",
    "import matplotlib.pyplot as plt\n",
    "from sklearn.decomposition import PCA\n",
    "from sklearn import linear_model\n",
    "from sklearn.model_selection import train_test_split\n",
    "from sklearn.ensemble import RandomForestRegressor\n",
    "import yfinance as yf\n",
    "import numpy as np\n",
    "from sklearn.preprocessing import StandardScaler"
   ]
  },
  {
   "cell_type": "code",
   "execution_count": 2,
   "metadata": {},
   "outputs": [
    {
     "name": "stdout",
     "output_type": "stream",
     "text": [
      "[*********************100%***********************]  1 of 1 completed\n",
      "                      Datetime        Open        High         Low  \\\n",
      "0    2020-11-18 09:30:00-05:00  360.760010  361.010010  360.709991   \n",
      "1    2020-11-18 09:31:00-05:00  360.739990  360.760010  360.579987   \n",
      "2    2020-11-18 09:32:00-05:00  360.679993  360.820007  360.579987   \n",
      "3    2020-11-18 09:33:00-05:00  360.720001  360.730011  360.559998   \n",
      "4    2020-11-18 09:34:00-05:00  360.660004  360.760010  360.619995   \n",
      "...                        ...         ...         ...         ...   \n",
      "1945 2020-11-24 15:55:00-05:00  363.260010  363.399994  363.260010   \n",
      "1946 2020-11-24 15:56:00-05:00  363.364990  363.369995  363.109985   \n",
      "1947 2020-11-24 15:57:00-05:00  363.149994  363.359985  363.089996   \n",
      "1948 2020-11-24 15:58:00-05:00  363.364990  363.369995  362.980011   \n",
      "1949 2020-11-24 15:59:00-05:00  363.190002  363.309998  363.070007   \n",
      "\n",
      "           Close   Volume  \n",
      "0     360.760010  1539385  \n",
      "1     360.679993   230986  \n",
      "2     360.730011   174189  \n",
      "3     360.660004   187756  \n",
      "4     360.695007   166232  \n",
      "...          ...      ...  \n",
      "1945  363.364990   662685  \n",
      "1946  363.140015   739132  \n",
      "1947  363.359985   557180  \n",
      "1948  363.109985  1341062  \n",
      "1949  363.179993  1589086  \n",
      "\n",
      "[1950 rows x 6 columns]\n"
     ]
    }
   ],
   "source": [
    "data = yf.download(  # or pdr.get_data_yahoo(...\n",
    "        # tickers list or string as well\n",
    "        tickers = \"SPY\",\n",
    "\n",
    "        # use \"period\" instead of start/end\n",
    "        # valid periods: 1d,5d,1mo,3mo,6mo,1y,2y,5y,10y,ytd,max\n",
    "        # (optional, default is '1mo')\n",
    "        period = \"5d\",\n",
    "\n",
    "        # fetch data by interval (including intraday if period < 60 days)\n",
    "        # valid intervals: 1m,2m,5m,15m,30m,60m,90m,1h,1d,5d,1wk,1mo,3mo\n",
    "        # (optional, default is '1d')\n",
    "        interval = \"1m\",\n",
    "\n",
    "        # group by ticker (to access via data['SPY'])\n",
    "        # (optional, default is 'column')\n",
    "        group_by = 'ticker',\n",
    "\n",
    "        # adjust all OHLC automatically\n",
    "        # (optional, default is False)\n",
    "        auto_adjust = True,\n",
    "\n",
    "        # download pre/post regular market hours data\n",
    "        # (optional, default is False)\n",
    "        prepost = False,\n",
    "\n",
    "        # use threads for mass downloading? (True/False/Integer)\n",
    "        # (optional, default is True)\n",
    "        threads = True,\n",
    "\n",
    "        # proxy URL scheme use use when downloading?\n",
    "        # (optional, default is None)\n",
    "        proxy = None\n",
    "    )\n",
    "data.reset_index(inplace=True,drop=False)\n",
    "print(data)"
   ]
  },
  {
   "cell_type": "markdown",
   "metadata": {},
   "source": [
    "ETL"
   ]
  },
  {
   "cell_type": "code",
   "execution_count": 3,
   "metadata": {},
   "outputs": [],
   "source": [
    "import pymongo\n",
    "client = pymongo.MongoClient()"
   ]
  },
  {
   "cell_type": "code",
   "execution_count": 4,
   "metadata": {},
   "outputs": [
    {
     "name": "stdout",
     "output_type": "stream",
     "text": [
      "rows=1950, update=0, insert=1950\n"
     ]
    }
   ],
   "source": [
    "db = client.get_database(\"stock\")\n",
    "collection = db.get_collection(\"stock\")\n",
    "update_count = 0\n",
    "for record in data.to_dict('records'):\n",
    "    result = collection.replace_one(\n",
    "        filter={'Datetime': record['Datetime']},    # locate the document if exists\n",
    "        replacement=record,                         # latest document\n",
    "        upsert=True)                                # update if exists, insert if not\n",
    "    if result.matched_count > 0:\n",
    "        update_count += 1\n",
    "print(f\"rows={data.shape[0]}, update={update_count}, \"\n",
    "      f\"insert={data.shape[0]-update_count}\")"
   ]
  }
 ],
 "metadata": {
  "kernelspec": {
   "display_name": "Python 3",
   "language": "python",
   "name": "python3"
  },
  "language_info": {
   "codemirror_mode": {
    "name": "ipython",
    "version": 3
   },
   "file_extension": ".py",
   "mimetype": "text/x-python",
   "name": "python",
   "nbconvert_exporter": "python",
   "pygments_lexer": "ipython3",
   "version": "3.7.6"
  }
 },
 "nbformat": 4,
 "nbformat_minor": 4
}
